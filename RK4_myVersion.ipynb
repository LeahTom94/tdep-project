{
 "cells": [
  {
   "cell_type": "code",
   "execution_count": 1,
   "metadata": {
    "collapsed": false
   },
   "outputs": [],
   "source": [
    "import numpy as np\n",
    "from scipy import linalg\n",
    "from scipy.sparse.linalg import eigsh\n",
    "from scipy import sparse\n",
    "\n",
    "hamiltonian = np.zeros((6240,6240))\n",
    "\n",
    "with open('datafile','r') as data:\n",
    "    count = 0\n",
    "    while True:\n",
    "        line = data.readline()\n",
    "        if count == 0:\n",
    "            count += 1\n",
    "        if not line:\n",
    "            break\n",
    "        else:\n",
    "            values = line.split()\n",
    "            hamiltonian[int(values[0])-1][int(values[1])-1] = float(values[2])\n",
    "            hamiltonian[int(values[1])-1][int(values[0])-1] = float(values[2])"
   ]
  },
  {
   "cell_type": "code",
   "execution_count": 2,
   "metadata": {
    "collapsed": false
   },
   "outputs": [
    {
     "name": "stdout",
     "output_type": "stream",
     "text": [
      "-8234.4466281\n"
     ]
    }
   ],
   "source": [
    "size = 100\n",
    "sub_hamiltonian = hamiltonian[0:size,0:size] # used 100 particles to work with\n",
    "sparse_sub_hamiltonian = sparse.csr_matrix(sub_hamiltonian)\n",
    "eigenvalues, eigenvectors = eigsh(sparse_sub_hamiltonian,99,which = 'LM')\n",
    "print sum(eigenvalues) # should be -8234.4466281 "
   ]
  },
  {
   "cell_type": "code",
   "execution_count": 72,
   "metadata": {
    "collapsed": false
   },
   "outputs": [],
   "source": [
    "# arbitrarily set one of the determinants to 1.\n",
    "psi_initial = np.zeros(shape=(size, 1), dtype = complex)\n",
    "psi_initial[0] = 1 # I set the first determinant to 1"
   ]
  },
  {
   "cell_type": "code",
   "execution_count": 154,
   "metadata": {
    "collapsed": false
   },
   "outputs": [],
   "source": [
    "def runge_kutta(t1,dt):\n",
    "    \"\"\"\n",
    "    Parameters: total time t1,time step dt\n",
    "    Returns a list of the sum_probabilities at each time step\n",
    "    Implemented based on http://lpsa.swarthmore.edu/NumInt/NumIntFourth.html \n",
    "    \"\"\"\n",
    "    global psi_initial\n",
    "    global size\n",
    "    psi_prev_rk = psi_initial\n",
    "    psi_next = np.zeros(shape=(size,1),dtype = complex)\n",
    "    k1 = np.zeros(shape=(size,1),dtype = complex)\n",
    "    k2 = np.zeros(shape=(size,1),dtype = complex)\n",
    "    k3 = np.zeros(shape=(size,1),dtype = complex)\n",
    "    k4 = np.zeros(shape=(size,1),dtype = complex)\n",
    "    y1 = np.zeros(shape=(size,1),dtype = complex)\n",
    "    y2 = np.zeros(shape=(size,1),dtype = complex)\n",
    "    y3 = np.zeros(shape=(size,1),dtype = complex)\n",
    "    y = []\n",
    "    index = int(t1/dt)\n",
    "    for i in range(index):\n",
    "        # first loop to update k1, y1\n",
    "        for i in range(size):\n",
    "            accumulator = sub_hamiltonian[i][i]*y1[i]\n",
    "            for j in range(size):\n",
    "                if i != j:\n",
    "                    accumulator += sub_hamiltonian[i][j]*psi_prev_rk[j]\n",
    "            k1[i] = accumulator*1j\n",
    "            y1[i] = psi_prev_rk[i] + accumulator*(dt/6)*1j\n",
    "            accumulator = 0 # reset accumulator to 0\n",
    "        # To get k2, y2\n",
    "        assert accumulator == 0\n",
    "        for i in range(size):\n",
    "            accumulator = sub_hamiltonian[i][i]*y1[i]\n",
    "            for j in range(size):\n",
    "                if i != j:\n",
    "                    accumulator += sub_hamiltonian[i][j]*y1[j]\n",
    "            y2[i] = y1[i] + accumulator*(dt/3)*1j\n",
    "            k2[i] = accumulator*(dt/3)*1j\n",
    "            accumulator = 0 # reset accumulator to 0\n",
    "        # To get k3, y3\n",
    "        assert accumulator == 0\n",
    "        for i in range(size):\n",
    "            accumulator = sub_hamiltonian[i][i]*y2[i]\n",
    "            for j in range(size):\n",
    "                if i != j:\n",
    "                    accumulator += sub_hamiltonian[i][j]*y2[j]\n",
    "            k3[i] = accumulator*(dt/3)*1j\n",
    "            y3[i] = y2[i] + accumulator*(dt/3)*1j\n",
    "            accumulator = 0 # reset accumulator to 0\n",
    "        # To get k4, y4\n",
    "        assert accumulator == 0\n",
    "        for i in range(size):\n",
    "            accumulator = sub_hamiltonian[i][i]*y3[i]\n",
    "            for j in range(size):\n",
    "                if i != j:\n",
    "                    accumulator += sub_hamiltonian[i][j]*y3[j]\n",
    "            k4[i] = accumulator*1j*(dt/6)\n",
    "            accumulator = 0 # reset accumulator to 0\n",
    "            psi_next[i] = psi_prev_rk[i] + (k1[i]+ k2[i]+ k3[i]+k4[i])\n",
    "        psi_prev_rk = psi_next\n",
    "        psi_next = np.zeros(shape=(size,1),dtype = complex)\n",
    "        # For plotting\n",
    "        y.append(sum((np.absolute(psi_prev_rk)**2)))\n",
    "    return y"
   ]
  },
  {
   "cell_type": "code",
   "execution_count": 157,
   "metadata": {
    "collapsed": true
   },
   "outputs": [],
   "source": [
    "def frange(start, stop, step):\n",
    "    i = start\n",
    "    while i < stop:\n",
    "             yield i\n",
    "             i += step"
   ]
  },
  {
   "cell_type": "code",
   "execution_count": 168,
   "metadata": {
    "collapsed": false
   },
   "outputs": [],
   "source": [
    "import matplotlib.pyplot as plt\n",
    "list_dt = [10**x for x in range(-3,1)]\n",
    "probabilities = []\n",
    "for dt in list_dt:\n",
    "    y = runge_kutta(10,dt)\n",
    "    prob = y.pop()\n",
    "    probabilities.append(prob)"
   ]
  },
  {
   "cell_type": "code",
   "execution_count": 167,
   "metadata": {
    "collapsed": false
   },
   "outputs": [
    {
     "name": "stdout",
     "output_type": "stream",
     "text": [
      "[array([ nan]), array([ nan]), array([  3.27703921e+264]), array([  4.00708172e+19])]\n"
     ]
    }
   ],
   "source": [
    "print probabilities # The sum of probabilities exceeds the maximum value for time steps of 10^(-3) and 10^(-2)\n",
    "# The time step of 10^(-1) results in a much higher divergence in probabilities than a time step of 1 for total time,10"
   ]
  }
 ],
 "metadata": {
  "kernelspec": {
   "display_name": "Python 2",
   "language": "python",
   "name": "python2"
  },
  "language_info": {
   "codemirror_mode": {
    "name": "ipython",
    "version": 2
   },
   "file_extension": ".py",
   "mimetype": "text/x-python",
   "name": "python",
   "nbconvert_exporter": "python",
   "pygments_lexer": "ipython2",
   "version": "2.7.11"
  }
 },
 "nbformat": 4,
 "nbformat_minor": 0
}
