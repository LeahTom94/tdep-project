{
 "cells": [
  {
   "cell_type": "code",
   "execution_count": 3,
   "metadata": {
    "collapsed": false
   },
   "outputs": [],
   "source": [
    "import numpy as np\n",
    "from scipy import linalg\n",
    "from scipy.sparse.linalg import eigsh\n",
    "from scipy import sparse\n",
    "\n",
    "hamiltonian = np.zeros((6240,6240))\n",
    "\n",
    "with open('datafile','r') as data:\n",
    "    count = 0\n",
    "    while True:\n",
    "        line = data.readline()\n",
    "        if count == 0:\n",
    "            count += 1\n",
    "        if not line:\n",
    "            break\n",
    "        else:\n",
    "            values = line.split()\n",
    "            hamiltonian[int(values[0])-1][int(values[1])-1] = float(values[2])\n",
    "            hamiltonian[int(values[1])-1][int(values[0])-1] = float(values[2])\n",
    "            \n",
    "\n",
    "sparse_hamiltonian = sparse.csr_matrix(hamiltonian)\n",
    "eigenvals, eigenvecs = eigsh(sparse_hamiltonian,1,which='LM')"
   ]
  },
  {
   "cell_type": "code",
   "execution_count": 4,
   "metadata": {
    "collapsed": false
   },
   "outputs": [],
   "source": [
    "sub_hamiltonian = hamiltonian[0:100,0:100] # used 100 particles to work with"
   ]
  },
  {
   "cell_type": "code",
   "execution_count": 5,
   "metadata": {
    "collapsed": false
   },
   "outputs": [
    {
     "name": "stdout",
     "output_type": "stream",
     "text": [
      "-8234.4466281\n"
     ]
    }
   ],
   "source": [
    "sparse_sub_hamiltonian = sparse.csr_matrix(sub_hamiltonian)\n",
    "eigenvalues, eigenvectors = eigsh(sparse_sub_hamiltonian,99,which = 'LM')\n",
    "print sum(eigenvalues)"
   ]
  },
  {
   "cell_type": "code",
   "execution_count": 6,
   "metadata": {
    "collapsed": false
   },
   "outputs": [],
   "source": [
    "# arbitrarily set one of the determinants to 1.\n",
    "psi_initial = np.zeros(shape=(100, 1), dtype = complex)\n",
    "psi_initial[0] = 1 # I set the first determinant to 1"
   ]
  },
  {
   "cell_type": "code",
   "execution_count": 7,
   "metadata": {
    "collapsed": false
   },
   "outputs": [],
   "source": [
    "# Without Runge-Kutta implemented and normalized\n",
    "dt = 0.01\n",
    "psi_prev = psi_initial\n",
    "psi_next = np.zeros(shape=(100,1),dtype = complex)\n",
    "for t in range(10):\n",
    "    for i in range(100):\n",
    "        accumulator = sub_hamiltonian[i][i]*psi_prev[i]\n",
    "        for j in range(100):\n",
    "            if i != j:\n",
    "                accumulator += sub_hamiltonian[i][j]*psi_prev[j]\n",
    "        psi_next[i] = accumulator*dt*1j\n",
    "        accumulator = 0 # reset accumulator to 0\n",
    "    psi_prev = psi_next/np.sqrt(sum((np.absolute(psi_next)**2))) # normalized the coefficients\n",
    "    psi_next = np.zeros(shape=(100, 1),dtype=complex) # reset to 0s"
   ]
  },
  {
   "cell_type": "code",
   "execution_count": 8,
   "metadata": {
    "collapsed": false
   },
   "outputs": [
    {
     "name": "stdout",
     "output_type": "stream",
     "text": [
      "[ 1.]\n"
     ]
    }
   ],
   "source": [
    "print sum((np.absolute(psi_prev)**2))"
   ]
  },
  {
   "cell_type": "code",
   "execution_count": 9,
   "metadata": {
    "collapsed": false
   },
   "outputs": [],
   "source": [
    "# Without Runge-Kutta implemented and not normalized (for comparison)\n",
    "dt = 0.01\n",
    "psi_prev = psi_initial\n",
    "psi_next = np.zeros(shape=(100,1),dtype = complex)\n",
    "for t in range(10):\n",
    "    for i in range(100):\n",
    "        accumulator = sub_hamiltonian[i][i]*psi_prev[i]\n",
    "        for j in range(100):\n",
    "            if i != j:\n",
    "                accumulator += sub_hamiltonian[i][j]*psi_prev[j]\n",
    "        psi_next[i] = accumulator*dt*1j\n",
    "        accumulator = 0 # reset accumulator to 0\n",
    "    psi_prev = psi_next # coefficients not normalized\n",
    "    psi_next = np.zeros(shape=(100, 1),dtype=complex) # reset to 0s"
   ]
  },
  {
   "cell_type": "code",
   "execution_count": 10,
   "metadata": {
    "collapsed": false
   },
   "outputs": [
    {
     "name": "stdout",
     "output_type": "stream",
     "text": [
      "[ 0.15181654]\n"
     ]
    }
   ],
   "source": [
    "print sum((np.absolute(psi_prev)**2))"
   ]
  },
  {
   "cell_type": "code",
   "execution_count": 19,
   "metadata": {
    "collapsed": false
   },
   "outputs": [
    {
     "name": "stdout",
     "output_type": "stream",
     "text": [
      "[1.5181653973459046e-61, 1.5181653973459063e-41, 1.5181653973459027e-21, 0.15181653973459028, 1.5181653973459065e+19, 1.5181653973459046e+39, 1.5181653973459118e+59, 1.5181653973459132e+79, 1.5181653973459108e+99, 1.5181653973459089e+119]\n"
     ]
    }
   ],
   "source": [
    "# Without Runge-Kutta implemented and not normalized (different time steps)\n",
    "dt = 0.01\n",
    "psi_prev = psi_initial\n",
    "psi_next = np.zeros(shape=(100,1),dtype = complex)\n",
    "time_steps = list()\n",
    "probabilities = list()\n",
    "for time_step in range(10):\n",
    "    dt = (10**time_step)*(10**(-5))\n",
    "    time_steps.append(dt)\n",
    "    psi_prev = psi_initial\n",
    "    psi_next = np.zeros(shape=(100,1),dtype = complex)\n",
    "    for t in range(10):\n",
    "        for i in range(100):\n",
    "            accumulator = sub_hamiltonian[i][i]*psi_prev[i]\n",
    "            for j in range(100):\n",
    "                if i != j:\n",
    "                    accumulator += sub_hamiltonian[i][j]*psi_prev[j]\n",
    "            psi_next[i] = accumulator*dt*1j\n",
    "            accumulator = 0 # reset accumulator to 0\n",
    "        psi_prev = psi_next # coefficients not normalized\n",
    "        psi_next = np.zeros(shape=(100, 1),dtype=complex) # reset to 0s\n",
    "    val = sum(np.absolute(psi_prev)**2)\n",
    "    probabilities.append(val[0])\n",
    "print probabilities"
   ]
  },
  {
   "cell_type": "code",
   "execution_count": null,
   "metadata": {
    "collapsed": false
   },
   "outputs": [],
   "source": [
    "# this graph plots the divergence in the sum of probabilities for the 4th-Order Runge Kutta\n",
    "import matplotlib.pyplot as plt\n",
    "import math \n",
    "logged_time = list()\n",
    "logged_probabilities = list()\n",
    "constant = list()\n",
    "for t in range(len(time_steps)):\n",
    "    logged_time.append(math.log(time_steps[t]))\n",
    "    logged_probabilities.append(math.log(probabilities[t]))\n",
    "x = np.arange(-5, max(logged_time)-5)\n",
    "constant = x*0 + 1\n",
    "plt.plot(x,logged_probabilities,label='Sum of probabilities')\n",
    "# plt.plot(time_steps,probabilities) # comment this out\n",
    "plt.plot(x, constant, label = 'Normalization value of 1')\n",
    "plt.xlabel(\"Log of time steps\", fontsize=15)\n",
    "plt.ylabel(\"Log of sum of Probabilities after 10 time steps\", fontsize =15)\n",
    "plt.legend(loc='upper left')\n",
    "plt.show()"
   ]
  },
  {
   "cell_type": "code",
   "execution_count": 39,
   "metadata": {
    "collapsed": false
   },
   "outputs": [],
   "source": [
    "#Implement 4th order Runge Kutta\n",
    "# accumulator variable below refers to RHS of equation 2 in write-up\n",
    "# Use generalized nth order runge-kutta? Based on the error of each time step\n",
    "dt = 0.01\n",
    "psi_prev_rk = psi_initial\n",
    "psi_next = np.zeros(shape=(100,1),dtype = complex)\n",
    "k1 = np.zeros(shape=(100,1),dtype = complex)\n",
    "k2 = np.zeros(shape=(100,1),dtype = complex)\n",
    "k3 = np.zeros(shape=(100,1),dtype = complex)\n",
    "k4 = np.zeros(shape=(100,1),dtype = complex)\n",
    "y1 = np.zeros(shape=(100,1),dtype = complex)\n",
    "y2 = np.zeros(shape=(100,1),dtype = complex)\n",
    "y3 = np.zeros(shape=(100,1),dtype = complex)\n",
    "for t in range(10): # wrong time step\n",
    "    # first loop to update k1, y1\n",
    "    for i in range(100):\n",
    "        accumulator = sub_hamiltonian[i][i]*psi_prev_rk[i]\n",
    "        for j in range(100):\n",
    "            if i != j:\n",
    "                accumulator += sub_hamiltonian[i][j]*psi_prev_rk[j]\n",
    "        k1[i] = accumulator*1j\n",
    "        y1[i] = psi_prev_rk[i] + accumulator*(dt/2)*1j\n",
    "        accumulator = 0 # reset accumulator to 0\n",
    "    # To get k2, y2\n",
    "    assert accumulator == 0\n",
    "    for i in range(100):\n",
    "        accumulator = sub_hamiltonian[i][i]*y1[i]\n",
    "        for j in range(100):\n",
    "            if i != j:\n",
    "                accumulator += sub_hamiltonian[i][j]*y1[j]\n",
    "        k2[i] = accumulator*1j\n",
    "        y2[i] = psi_prev_rk[i] + accumulator*(dt/2)*1j\n",
    "        accumulator = 0 # reset accumulator to 0\n",
    "    # To get k3, y3\n",
    "    assert accumulator == 0\n",
    "    for i in range(100):\n",
    "        accumulator = sub_hamiltonian[i][i]*y2[i]\n",
    "        for j in range(100):\n",
    "            if i != j:\n",
    "                accumulator += sub_hamiltonian[i][j]*y2[j]\n",
    "        k3[i] = accumulator*1j\n",
    "        y3[i] = psi_prev_rk[i] + accumulator*dt*1j\n",
    "        accumulator = 0 # reset accumulator to 0\n",
    "    # To get k4, y4\n",
    "    assert accumulator == 0\n",
    "    for i in range(100):\n",
    "        accumulator = sub_hamiltonian[i][i]*y3[i]\n",
    "        for j in range(100):\n",
    "            if i != j:\n",
    "                accumulator += sub_hamiltonian[i][j]*y3[j]\n",
    "        k4[i] = accumulator*1j\n",
    "        accumulator = 0 # reset accumulator to 0\n",
    "        psi_next[i] = psi_prev_rk[i] + (k1[i]+2*k2[i]+2*k3[i]+k4[i])*(dt/6)\n",
    "    psi_prev_rk = psi_next \n",
    "    psi_next = np.zeros(shape=(100,1),dtype = complex)"
   ]
  },
  {
   "cell_type": "code",
   "execution_count": 327,
   "metadata": {
    "collapsed": false
   },
   "outputs": [
    {
     "name": "stdout",
     "output_type": "stream",
     "text": [
      "[ 0.93151081]\n"
     ]
    }
   ],
   "source": [
    "print sum((np.absolute(psi_prev_rk)**2)) # possibility of using lost probabilities as indicator of how good the approximation is?"
   ]
  },
  {
   "cell_type": "code",
   "execution_count": 88,
   "metadata": {
    "collapsed": false
   },
   "outputs": [
    {
     "name": "stdout",
     "output_type": "stream",
     "text": [
      "[ 7638.16758144]\n"
     ]
    }
   ],
   "source": [
    "# # verlet algorithm (part 1 - initializing variables)\n",
    "# dt = 0.01\n",
    "# psi_t_minus_dt = psi_initial\n",
    "# psi_t = np.zeros(shape=(100,1),dtype = complex)\n",
    "# psi_t_minus_derivative = np.zeros(shape=(100,1),dtype = complex)\n",
    "\n",
    "# # Get r(t + dt) first. Maybe I should use the Runge-Kutta here instead?\n",
    "# # for i in range(100):\n",
    "# #     accumulator = sub_hamiltonian[i][i]*psi_t_minus_dt[i]\n",
    "# #     for j in range(100):\n",
    "# #         if i != j:\n",
    "# #             accumulator += sub_hamiltonian[i][j]*psi_t_minus_dt[j]\n",
    "# #     psi_t[i] = accumulator*dt*1j\n",
    "# #     accumulator = 0 # reset accumulator to 0\n",
    "# # psi_t = psi_t#/np.sqrt(sum((np.absolute(psi_t)**2)))\n",
    "# # psi_t_minus_derivative = (psi_t - psi_t_minus_dt)/dt\n",
    "\n",
    "# # Use Runge-Kutta instead to initialize the first r(t)\n",
    "# for i in range(100):\n",
    "#     accumulator = sub_hamiltonian[i][i]*psi_t_minus_dt[i]\n",
    "#     for j in range(100):\n",
    "#         if i != j:\n",
    "#             accumulator += sub_hamiltonian[i][j]*psi_t_minus_dt[j]\n",
    "#     k1[i] = accumulator*1j\n",
    "#     y1[i] = psi_t_minus_dt[i] + accumulator*(dt/2)*1j\n",
    "#     accumulator = 0 # reset accumulator to 0\n",
    "# # To get k2, y2\n",
    "# assert accumulator == 0\n",
    "# for i in range(100):\n",
    "#     accumulator = sub_hamiltonian[i][i]*y1[i]\n",
    "#     for j in range(100):\n",
    "#         if i != j:\n",
    "#             accumulator += sub_hamiltonian[i][j]*y1[j]\n",
    "#     k2[i] = accumulator*1j\n",
    "#     y2[i] = psi_t_minus_dt[i] + accumulator*(dt/2)*1j\n",
    "#     accumulator = 0 # reset accumulator to 0\n",
    "# # To get k3, y3\n",
    "# assert accumulator == 0\n",
    "# for i in range(100):\n",
    "#     accumulator = sub_hamiltonian[i][i]*y2[i]\n",
    "#     for j in range(100):\n",
    "#         if i != j:\n",
    "#             accumulator += sub_hamiltonian[i][j]*y2[j]\n",
    "#     k3[i] = accumulator*1j\n",
    "#     y3[i] = psi_t_minus_dt[i] + accumulator*dt*1j\n",
    "#     accumulator = 0 # reset accumulator to 0\n",
    "# # To get k4, y4\n",
    "# assert accumulator == 0\n",
    "# for i in range(100):\n",
    "#     accumulator = sub_hamiltonian[i][i]*y3[i]\n",
    "#     for j in range(100):\n",
    "#         if i != j:\n",
    "#             accumulator += sub_hamiltonian[i][j]*y3[j]\n",
    "#     k4[i] = accumulator*1j\n",
    "#     accumulator = 0 # reset accumulator to 0\n",
    "#     psi_t[i] = psi_t_minus_dt[i] + (k1[i]+2*k2[i]+2*k3[i]+k4[i])*(dt/6)\n",
    "# psi_t_minus_derivative = (k1 + 2*k2+ 2*k3+ k4)*(1.0/6) # why is dt required here?\n",
    "# print sum(np.absolute(psi_t_minus_derivative)**2)"
   ]
  },
  {
   "cell_type": "code",
   "execution_count": 89,
   "metadata": {
    "collapsed": false
   },
   "outputs": [
    {
     "name": "stdout",
     "output_type": "stream",
     "text": [
      "[ 0.99293027]\n"
     ]
    }
   ],
   "source": [
    "# print sum((np.absolute(psi_t)**2))"
   ]
  },
  {
   "cell_type": "code",
   "execution_count": 90,
   "metadata": {
    "collapsed": true
   },
   "outputs": [],
   "source": [
    "# psi_t = psi_t/np.sqrt(sum(np.absolute(psi_t)**2)) # remove this if it compromises on accuracy"
   ]
  },
  {
   "cell_type": "code",
   "execution_count": 96,
   "metadata": {
    "collapsed": false
   },
   "outputs": [
    {
     "name": "stdout",
     "output_type": "stream",
     "text": [
      "[ 2.51349406]\n",
      "[ 10.13752219]\n",
      "[ 43.71718063]\n",
      "[ 184.20290631]\n",
      "[ 758.47999278]\n",
      "[ 3080.25670624]\n",
      "[ 12416.7002952]\n",
      "[ 49861.14812127]\n",
      "[ 199836.28636599]\n",
      "[ 800131.53322578]\n"
     ]
    }
   ],
   "source": [
    "# verlet algorithm (part 1 - initializing variables)\n",
    "dt = 0.01\n",
    "psi_t_minus_dt = psi_initial\n",
    "psi_t = np.zeros(shape=(100,1),dtype = complex)\n",
    "psi_t_minus_derivative = np.zeros(shape=(100,1),dtype = complex)\n",
    "\n",
    "# Get r(t + dt) first. Maybe I should use the Runge-Kutta here instead?\n",
    "# for i in range(100):\n",
    "#     accumulator = sub_hamiltonian[i][i]*psi_t_minus_dt[i]\n",
    "#     for j in range(100):\n",
    "#         if i != j:\n",
    "#             accumulator += sub_hamiltonian[i][j]*psi_t_minus_dt[j]\n",
    "#     psi_t[i] = accumulator*dt*1j\n",
    "#     accumulator = 0 # reset accumulator to 0\n",
    "# psi_t = psi_t#/np.sqrt(sum((np.absolute(psi_t)**2)))\n",
    "# psi_t_minus_derivative = (psi_t - psi_t_minus_dt)/dt\n",
    "\n",
    "# Use Runge-Kutta instead to initialize the first r(t)\n",
    "for i in range(100):\n",
    "    accumulator = sub_hamiltonian[i][i]*psi_t_minus_dt[i]\n",
    "    for j in range(100):\n",
    "        if i != j:\n",
    "            accumulator += sub_hamiltonian[i][j]*psi_t_minus_dt[j]\n",
    "    k1[i] = accumulator*1j\n",
    "    y1[i] = psi_t_minus_dt[i] + accumulator*(dt/2)*1j\n",
    "    accumulator = 0 # reset accumulator to 0\n",
    "# To get k2, y2\n",
    "assert accumulator == 0\n",
    "for i in range(100):\n",
    "    accumulator = sub_hamiltonian[i][i]*y1[i]\n",
    "    for j in range(100):\n",
    "        if i != j:\n",
    "            accumulator += sub_hamiltonian[i][j]*y1[j]\n",
    "    k2[i] = accumulator*1j\n",
    "    y2[i] = psi_t_minus_dt[i] + accumulator*(dt/2)*1j\n",
    "    accumulator = 0 # reset accumulator to 0\n",
    "# To get k3, y3\n",
    "assert accumulator == 0\n",
    "for i in range(100):\n",
    "    accumulator = sub_hamiltonian[i][i]*y2[i]\n",
    "    for j in range(100):\n",
    "        if i != j:\n",
    "            accumulator += sub_hamiltonian[i][j]*y2[j]\n",
    "    k3[i] = accumulator*1j\n",
    "    y3[i] = psi_t_minus_dt[i] + accumulator*dt*1j\n",
    "    accumulator = 0 # reset accumulator to 0\n",
    "# To get k4, y4\n",
    "assert accumulator == 0\n",
    "for i in range(100):\n",
    "    accumulator = sub_hamiltonian[i][i]*y3[i]\n",
    "    for j in range(100):\n",
    "        if i != j:\n",
    "            accumulator += sub_hamiltonian[i][j]*y3[j]\n",
    "    k4[i] = accumulator*1j\n",
    "    accumulator = 0 # reset accumulator to 0\n",
    "    psi_t[i] = psi_t_minus_dt[i] + (k1[i]+2*k2[i]+2*k3[i]+k4[i])*(dt/6)\n",
    "psi_t_minus_derivative = (k1 + 2*k2+ 2*k3+ k4)*(1.0/6) # why is dt required here?\n",
    "# print sum(np.absolute(psi_t_minus_derivative)**2)\n",
    "\n",
    "# verlet algorithm part 2. Combine with above method (Do not run this by itself-- update of variables needed)\n",
    "psi_t_plus_derivative = np.zeros(shape=(100,1),dtype = complex)\n",
    "psi_t_plus_dt = np.zeros(shape=(100,1),dtype = complex)\n",
    "\n",
    "number_steps = 10\n",
    "dt = 0.00000001\n",
    "for t in range(number_steps):\n",
    "    for i in range(100):\n",
    "        accumulator = sub_hamiltonian[i][i]*psi_t[i]\n",
    "        for j in range(100):\n",
    "            if i != j:\n",
    "                accumulator += sub_hamiltonian[i][j]*psi_t[j]\n",
    "        k1[i] = accumulator*1j\n",
    "        y1[i] = psi_t[i] + accumulator*(dt/2)*1j\n",
    "        accumulator = 0 # reset accumulator to 0\n",
    "    # To get k2, y2\n",
    "    assert accumulator == 0\n",
    "    for i in range(100):\n",
    "        accumulator = sub_hamiltonian[i][i]*y1[i]\n",
    "        for j in range(100):\n",
    "            if i != j:\n",
    "                accumulator += sub_hamiltonian[i][j]*y1[j]\n",
    "        k2[i] = accumulator*1j\n",
    "        y2[i] = psi_t[i] + accumulator*(dt/2)*1j\n",
    "        accumulator = 0 # reset accumulator to 0\n",
    "    # To get k3, y3\n",
    "    assert accumulator == 0\n",
    "    for i in range(100):\n",
    "        accumulator = sub_hamiltonian[i][i]*y2[i]\n",
    "        for j in range(100):\n",
    "            if i != j:\n",
    "                accumulator += sub_hamiltonian[i][j]*y2[j]\n",
    "        k3[i] = accumulator*1j\n",
    "        y3[i] = psi_t[i] + accumulator*dt*1j\n",
    "        accumulator = 0 # reset accumulator to 0\n",
    "    # To get k4, y4\n",
    "    assert accumulator == 0\n",
    "    for i in range(100):\n",
    "        accumulator = sub_hamiltonian[i][i]*y3[i]\n",
    "        for j in range(100):\n",
    "            if i != j:\n",
    "                accumulator += sub_hamiltonian[i][j]*y3[j]\n",
    "        k4[i] = accumulator*1j\n",
    "        accumulator = 0 # reset accumulator to 0\n",
    "        psi_t_plus_derivative[i] = (k1[i]+2*k2[i]+2*k3[i]+k4[i])*(1.0/6)\n",
    "        psi_t_plus_dt[i] = 2*psi_t[i] - psi_t_minus_dt[i] + (psi_t_plus_derivative[i] - psi_t_minus_derivative[i])*(dt*dt)\n",
    "    psi_minus_dt = psi_t\n",
    "    psi_t = psi_t_plus_dt\n",
    "    psi_t_plus_dt = np.zeros(shape=(100,1),dtype = complex)\n",
    "    psi_t_minus_derivative = psi_t_plus_derivative\n",
    "    print sum((np.absolute(psi_t)**2))"
   ]
  },
  {
   "cell_type": "code",
   "execution_count": null,
   "metadata": {
    "collapsed": false
   },
   "outputs": [],
   "source": [
    "x = [1,2,3,4,5,6,7,8,9,10]\n",
    "plt.plot(x,[2.513,10.137,43.717,184.20,758.47,3080.25,12416.70,49861.14,199836.28,800131.53])\n",
    "plt.show()"
   ]
  },
  {
   "cell_type": "code",
   "execution_count": null,
   "metadata": {
    "collapsed": true
   },
   "outputs": [],
   "source": []
  }
 ],
 "metadata": {
  "kernelspec": {
   "display_name": "Python 2",
   "language": "python",
   "name": "python2"
  },
  "language_info": {
   "codemirror_mode": {
    "name": "ipython",
    "version": 2
   },
   "file_extension": ".py",
   "mimetype": "text/x-python",
   "name": "python",
   "nbconvert_exporter": "python",
   "pygments_lexer": "ipython2",
   "version": "2.7.11"
  }
 },
 "nbformat": 4,
 "nbformat_minor": 0
}
