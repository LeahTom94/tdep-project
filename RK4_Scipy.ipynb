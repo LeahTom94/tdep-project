{
 "cells": [
  {
   "cell_type": "code",
   "execution_count": 1,
   "metadata": {
    "collapsed": true
   },
   "outputs": [],
   "source": [
    "import numpy as np\n",
    "from scipy import linalg\n",
    "from scipy.sparse.linalg import eigsh\n",
    "from scipy import sparse\n",
    "\n",
    "hamiltonian = np.zeros((6240,6240))\n",
    "\n",
    "with open('datafile','r') as data:\n",
    "    count = 0\n",
    "    while True:\n",
    "        line = data.readline()\n",
    "        if count == 0:\n",
    "            count += 1\n",
    "        if not line:\n",
    "            break\n",
    "        else:\n",
    "            values = line.split()\n",
    "            hamiltonian[int(values[0])-1][int(values[1])-1] = float(values[2])\n",
    "            hamiltonian[int(values[1])-1][int(values[0])-1] = float(values[2])"
   ]
  },
  {
   "cell_type": "code",
   "execution_count": 2,
   "metadata": {
    "collapsed": false
   },
   "outputs": [
    {
     "name": "stdout",
     "output_type": "stream",
     "text": [
      "-8234.4466281\n"
     ]
    }
   ],
   "source": [
    "size = 100\n",
    "sub_hamiltonian = hamiltonian[0:size,0:size] # used 100 particles to work with\n",
    "sparse_sub_hamiltonian = sparse.csr_matrix(sub_hamiltonian)\n",
    "eigenvalues, eigenvectors = eigsh(sparse_sub_hamiltonian,99,which = 'LM')\n",
    "print sum(eigenvalues) # should be -8234.4466281 "
   ]
  },
  {
   "cell_type": "code",
   "execution_count": 3,
   "metadata": {
    "collapsed": true
   },
   "outputs": [],
   "source": [
    "# arbitrarily set one of the determinants to 1.\n",
    "psi_initial = np.zeros(shape=(size, 1), dtype = complex)\n",
    "psi_initial[0] = 1 # I set the first determinant to 1"
   ]
  },
  {
   "cell_type": "code",
   "execution_count": 23,
   "metadata": {
    "collapsed": false
   },
   "outputs": [],
   "source": [
    "from scipy.integrate import ode\n",
    "\n",
    "y0 = psi_initial\n",
    "t0 = 0\n",
    "\n",
    "def f(t, y, scaling_factor):\n",
    "    \"\"\"\n",
    "    TDSE: dy/dt = (-i/h_bar)*H*y \n",
    "    Blows up when scaled by 1/h_bar so it has been scaled by scaling factor\n",
    "    Made dy/dt real by omitting complex i\n",
    "    \"\"\"\n",
    "    global sub_hamiltonian\n",
    "    y_out = ((-1.0)*np.matmul(sub_hamiltonian,y))/(scaling_factor)\n",
    "    return y_out\n",
    "\n",
    "def runge_kutta_order8(t1,dt,constant):\n",
    "    \"\"\"\n",
    "    Explicit Runge-Kutta method of order 8(5,3) by Dormand and Prince\n",
    "    Returns a tuple of the final time and wavefunction\n",
    "    \"\"\"\n",
    "    global y0,t0\n",
    "    r = ode(f).set_integrator('dop853').set_f_params(constant) # also 8th order\n",
    "    r.set_initial_value(y0,t0)\n",
    "    while r.successful() and r.t < t1:\n",
    "        r.integrate(r.t+dt)\n",
    "    return r.t, r.y\n",
    "\n",
    "def runge_kutta_order5(t1,dt,constant):\n",
    "    \"\"\"\n",
    "    Explicit Runge-Kutta method of order 5(4) by Dormand and Prince\n",
    "    Returns a tuple of the final time and wavefunction\n",
    "    \"\"\"\n",
    "    global y0,t0\n",
    "    r = ode(f).set_integrator('dopri5').set_f_params(constant) # also 5th order\n",
    "    r.set_initial_value(y0,t0)\n",
    "    while r.successful() and r.t < t1:\n",
    "        r.integrate(r.t+dt)\n",
    "    return r.t,r.y\n",
    "\n",
    "def runge_kutta_order8_stepwise(t1,dt,constant):\n",
    "    \"\"\"\n",
    "    The stepwise function gives a sense of how the sum of probabilities diverges in each time step\n",
    "    Returns a tuple of arrays.\n",
    "    First array is the different steps in time\n",
    "    Second array is the sum of probabilities at each time step\n",
    "    \"\"\"\n",
    "    global y0,t0\n",
    "    sum_probabilities = []\n",
    "    time = []\n",
    "    r = ode(f).set_integrator('dop853').set_f_params(constant) # also 8th order\n",
    "    r.set_initial_value(y0,t0)\n",
    "    while r.successful() and r.t < t1:\n",
    "        r.integrate(r.t+dt)\n",
    "        time.append(r.t)\n",
    "        sum_probabilities.append(sum(np.absolute(r.y)**2))\n",
    "    return time, sum_probabilities\n",
    "\n",
    "def runge_kutta_order5_stepwise(t1,dt,constant):\n",
    "    \"\"\"\n",
    "    The stepwise function gives a sense of how the sum of probabilities diverges in each time step\n",
    "    Returns a tuple of arrays.\n",
    "    First array is the different steps in time\n",
    "    Second array is the sum of probabilities at each time step\n",
    "    \"\"\"\n",
    "    global y0,t0\n",
    "    sum_probabilities = []\n",
    "    time = []\n",
    "    r = ode(f).set_integrator('dopri5').set_f_params(constant) # also 8th order\n",
    "    r.set_initial_value(y0,t0)\n",
    "    while r.successful() and r.t < t1:\n",
    "        r.integrate(r.t+dt)\n",
    "        time.append(r.t)\n",
    "        sum_probabilities.append(sum(np.absolute(r.y)**2))\n",
    "    return time, sum_probabilities"
   ]
  },
  {
   "cell_type": "code",
   "execution_count": 27,
   "metadata": {
    "collapsed": false
   },
   "outputs": [
    {
     "name": "stdout",
     "output_type": "stream",
     "text": [
      "[ 1.19960315]\n",
      "[ 1.19960315]\n",
      "[ 1.22163472]\n",
      "[ 1.19960315]\n"
     ]
    }
   ],
   "source": [
    "# fixed the scaling factor and total time at 10s. dt is varied from 10^(-3) to 1.\n",
    "# In spite of this, there is not much change in the divergence of probabilities or a clear pattern\n",
    "for i in range(-3,1):\n",
    "    dt = 10**i\n",
    "    t, y = runge_kutta_order8(1,dt,10**3)\n",
    "    print sum(np.absolute(y)**2)"
   ]
  },
  {
   "cell_type": "code",
   "execution_count": null,
   "metadata": {
    "collapsed": false
   },
   "outputs": [],
   "source": [
    "import matplotlib.pyplot as plt\n",
    "t,y = runge_kutta_order8_stepwise(10,1)\n",
    "plt.plot(t,y,'x')\n",
    "plt.show()"
   ]
  }
 ],
 "metadata": {
  "kernelspec": {
   "display_name": "Python 2",
   "language": "python",
   "name": "python2"
  },
  "language_info": {
   "codemirror_mode": {
    "name": "ipython",
    "version": 2
   },
   "file_extension": ".py",
   "mimetype": "text/x-python",
   "name": "python",
   "nbconvert_exporter": "python",
   "pygments_lexer": "ipython2",
   "version": "2.7.11"
  }
 },
 "nbformat": 4,
 "nbformat_minor": 0
}
